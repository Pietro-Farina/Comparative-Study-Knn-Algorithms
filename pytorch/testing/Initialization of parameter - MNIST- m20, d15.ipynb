{
 "cells": [
  {
   "cell_type": "code",
   "execution_count": 1,
   "id": "8d58c8da",
   "metadata": {},
   "outputs": [
    {
     "name": "stderr",
     "output_type": "stream",
     "text": [
      "C:\\Users\\pietr\\anaconda3\\envs\\edgeml\\lib\\site-packages\\tqdm\\auto.py:22: TqdmWarning: IProgress not found. Please update jupyter and ipywidgets. See https://ipywidgets.readthedocs.io/en/stable/user_install.html\n",
      "  from .autonotebook import tqdm as notebook_tqdm\n"
     ]
    },
    {
     "name": "stdout",
     "output_type": "stream",
     "text": [
      "Dataset input rescaled\n",
      "Dataset loaded, input space: (60000, 784) , output space: (60000,)\n",
      "Dataset reshaped, input space: (60000, 784) , output space: (60000, 10)\n"
     ]
    }
   ],
   "source": [
    "# Overview of the accuracy of ProtoNN when gamma is calculated heuristically\n",
    "\n",
    "# import ProtoNN code\n",
    "import protoNN as protograph\n",
    "import protoNNTrainer as prototrainer\n",
    "import utils as utils\n",
    "# import general libraries\n",
    "import numpy as np\n",
    "import torch\n",
    "from sklearn.model_selection import train_test_split\n",
    "from sklearn.cluster import KMeans\n",
    "\n",
    "# need to change the dataset location\n",
    "X, Y = utils.handleMNIST('../../../data_set/mnist.csv')\n",
    "\n",
    "dataset = utils.CustomDatasetProtoNN(X, Y, rescaling=True, binary=False)"
   ]
  },
  {
   "cell_type": "code",
   "execution_count": 2,
   "id": "f5db7816",
   "metadata": {},
   "outputs": [
    {
     "name": "stdout",
     "output_type": "stream",
     "text": [
      "Dataset splitted: TRAINING: 48000 TESTING: 12000\n"
     ]
    }
   ],
   "source": [
    "X_train, X_test, Y_train, Y_test = train_test_split(dataset.data, dataset.labels, test_size=0.2, random_state=0)\n",
    "train_inputs = torch.from_numpy(X_train.astype(np.float32))\n",
    "train_targets = torch.from_numpy(Y_train.astype(np.float32))\n",
    "test_inputs = torch.from_numpy(X_test.astype(np.float32))\n",
    "test_targets = torch.from_numpy(Y_test.astype(np.float32))\n",
    "print(\"Dataset splitted: TRAINING:\", train_inputs.shape[0], \"TESTING:\", test_inputs.shape[0])"
   ]
  },
  {
   "cell_type": "code",
   "execution_count": 3,
   "id": "93b7b7ce",
   "metadata": {},
   "outputs": [
    {
     "name": "stdout",
     "output_type": "stream",
     "text": [
      "input dim:\t 784 \n",
      "num class:\t 10 \n",
      "num prototypes:\t 20 \n",
      "porjection dim:\t 15\n",
      "\n",
      "batch size:\t 100 \n",
      "epochs:\t\t 100 \n",
      "print step:\t 1000 \n",
      "evaluation step: 100\n"
     ]
    }
   ],
   "source": [
    "# DEFINITION OF HYPERPARAMETER FOR THE PROBLEM\n",
    "input_dimension = X_train.shape[1]\n",
    "numOutputLabels = dataset.numClasses\n",
    "numPrototypes = 20\n",
    "projection_dimension = 15\n",
    "\n",
    "# regularizer of W, B and Z: HYPERPARAMETER\n",
    "regW, regB, regZ = 0, 0, 0\n",
    "\n",
    "# sparsity of W, B and Z: HYPERPARAMETER, CONSTRAINTS OF MEMORY\n",
    "sparcityW, sparcityB, sparcityZ = 1, 1, 1\n",
    "\n",
    "np.random.seed(0)\n",
    "\n",
    "# print structure of ProtoNN\n",
    "print(\"input dim:\\t\", input_dimension,\n",
    "      \"\\nnum class:\\t\", numOutputLabels,\n",
    "      \"\\nnum prototypes:\\t\", numPrototypes,\n",
    "      \"\\nporjection dim:\\t\", projection_dimension)\n",
    "\n",
    "# initial learning rate of the OPTIMIZER: HYPERPARAMETER\n",
    "learningRate = 0.1\n",
    "# lossType: 'l2'\n",
    "lossType= 'l2'\n",
    "\n",
    "# TRAINING PHASE\n",
    "# batchsize: HAS TO BE DEFINED\n",
    "batchsize = 100\n",
    "# epochs: HAS TO BE DEFINED\n",
    "epochs = 100\n",
    "# printStep: HAS TO BE DEFINED\n",
    "printStep = 1000\n",
    "# valStep: HAS TO BE DEFINED\n",
    "valStep = 100\n",
    "\n",
    "# print virables of ProtoNN training\n",
    "print(\"\\nbatch size:\\t\", batchsize,\n",
    "      \"\\nepochs:\\t\\t\", epochs,\n",
    "      \"\\nprint step:\\t\", printStep,\n",
    "      \"\\nevaluation step:\", valStep)"
   ]
  },
  {
   "cell_type": "code",
   "execution_count": 4,
   "id": "8b8828e6",
   "metadata": {},
   "outputs": [],
   "source": [
    "# Initialization of parameter (not covered in protoNN class yet)\n",
    "\n",
    "# initialize W as random\n",
    "W = np.random.rand(input_dimension, projection_dimension)\n",
    "w_tensor = torch.from_numpy(W.astype(np.float32))\n",
    "\n",
    "# initialize B as k-means on transformed input\n",
    "transformed_train_input = torch.matmul(train_inputs, w_tensor)\n",
    "kmeans = KMeans(n_clusters=numPrototypes, random_state=0, n_init=10, max_iter=50).fit(transformed_train_input)\n",
    "B = kmeans.cluster_centers_.T\n",
    "\n",
    "# initialize B as samples from the dataset\n",
    "rng = np.random.default_rng(seed=0)\n",
    "preB = np.zeros((numPrototypes, projection_dimension))\n",
    "preZ = np.zeros((numPrototypes, numOutputLabels))\n",
    "for index_sample in range (0, numPrototypes):\n",
    "    preB[index_sample] = transformed_train_input[index_sample]\n",
    "    preZ[index_sample] = Y_train[index_sample]\n",
    "sampledB = preB.T\n",
    "sampledZ = preZ.T\n",
    "\n",
    "# initialize gamma: HYPERPARAMETER, heuristic = gamma = 1/2.5*(median of distance between sample and closest cluster)\n",
    "transformed_train_input = kmeans.transform(transformed_train_input)\n",
    "gamma = np.median(transformed_train_input)\n",
    "gamma = 1 / (2.5 * gamma)\n",
    "\n",
    "# assaign to each prototype a score\n",
    "score = torch.zeros([numPrototypes, numOutputLabels], dtype=torch.float32)\n",
    "score_scaled = torch.zeros([numPrototypes, numOutputLabels], dtype=torch.float32)\n",
    "assert train_inputs.shape[0] == train_targets.shape[0],\"Train input number different from train target number\"\n",
    "for j in range (0, train_targets.shape[0]):\n",
    "    score[kmeans.labels_[j]] += train_targets[j]\n",
    "    score_scaled[kmeans.labels_[j]] += train_targets[j]\n",
    "# Take the most higher value for class of a prototype and zero the others\n",
    "z = 0\n",
    "for element in score:\n",
    "    index = np.argmax(element)\n",
    "    for value in element:\n",
    "        z += value\n",
    "    for x in range (0, numOutputLabels):\n",
    "        if (x == index):\n",
    "            element[x] = 1\n",
    "        else:\n",
    "            element[x] = 0\n",
    "for element in score_scaled:\n",
    "    media = element.mean()\n",
    "    deviazione = element.std()\n",
    "    index = np.argmax(element)\n",
    "    for x in range (0, numOutputLabels):\n",
    "        element[x] = (element[x] - media) / deviazione\n",
    "assert z == kmeans.labels_.shape[0], \"Sum of score of the prototypes should be equal to the number of sample\"\n",
    "Z = score.T.detach().numpy()\n",
    "Z_scaled = score_scaled.T.detach().numpy()"
   ]
  },
  {
   "cell_type": "code",
   "execution_count": 5,
   "id": "cc6d5312",
   "metadata": {},
   "outputs": [
    {
     "name": "stdout",
     "output_type": "stream",
     "text": [
      "Model size: 49.04 KB\n"
     ]
    }
   ],
   "source": [
    "# INITIALIZE PROTO NN - k means - argmax\n",
    "protoNNmodel = protograph.ProtoNN(input_dimension, projection_dimension,\n",
    "                                  numPrototypes, numOutputLabels,\n",
    "                                  gamma,\n",
    "                                  W=W, B=B, Z=Z)\n",
    "protoNNtrainer = prototrainer.ProtoNNTrainer(protoNNmodel,\n",
    "                                             sparcityW, sparcityB, sparcityZ,\n",
    "                                             regW, regB, regZ,\n",
    "                                             learningRate,\n",
    "                                             lossType)\n",
    "print(\"Model size:\", protoNNmodel.getModelSizeAsDense(), \"KB\")\n",
    "result_a = protoNNtrainer.train(\n",
    "                              train_inputs.float(),\n",
    "                              test_inputs.float(),\n",
    "                              train_targets.float(),\n",
    "                              test_targets.float(),\n",
    "                              batchsize,\n",
    "                              epochs,\n",
    "                              printStep,\n",
    "                              valStep,\n",
    "                              verbose=False, history=True)\n"
   ]
  },
  {
   "cell_type": "code",
   "execution_count": 6,
   "id": "3fde3d29",
   "metadata": {},
   "outputs": [
    {
     "name": "stdout",
     "output_type": "stream",
     "text": [
      "Model size: 49.04 KB\n"
     ]
    }
   ],
   "source": [
    "# INITIALIZE PROTO NN - k means - standardized\n",
    "protoNNmodel = protograph.ProtoNN(input_dimension, projection_dimension,\n",
    "                                  numPrototypes, numOutputLabels,\n",
    "                                  gamma,\n",
    "                                  W=W, B=B, Z=Z_scaled)\n",
    "protoNNtrainer = prototrainer.ProtoNNTrainer(protoNNmodel,\n",
    "                                             sparcityW, sparcityB, sparcityZ,\n",
    "                                             regW, regB, regZ,\n",
    "                                             learningRate,\n",
    "                                             lossType)\n",
    "print(\"Model size:\", protoNNmodel.getModelSizeAsDense(), \"KB\")\n",
    "result_b = protoNNtrainer.train(\n",
    "                              train_inputs.float(),\n",
    "                              test_inputs.float(),\n",
    "                              train_targets.float(),\n",
    "                              test_targets.float(),\n",
    "                              batchsize,\n",
    "                              epochs,\n",
    "                              printStep,\n",
    "                              valStep,\n",
    "                              verbose=False, history=True)\n"
   ]
  },
  {
   "cell_type": "code",
   "execution_count": 7,
   "id": "9d0a3ce2",
   "metadata": {},
   "outputs": [
    {
     "name": "stdout",
     "output_type": "stream",
     "text": [
      "Model size: 49.04 KB\n"
     ]
    }
   ],
   "source": [
    "# INITIALIZE PROTO NN - B sampled\n",
    "protoNNmodel = protograph.ProtoNN(input_dimension, projection_dimension,\n",
    "                                  numPrototypes, numOutputLabels,\n",
    "                                  gamma,\n",
    "                                  W=W, B=sampledB, Z=sampledZ)\n",
    "protoNNtrainer = prototrainer.ProtoNNTrainer(protoNNmodel,\n",
    "                                             sparcityW, sparcityB, sparcityZ,\n",
    "                                             regW, regB, regZ,\n",
    "                                             learningRate,\n",
    "                                             lossType)\n",
    "print(\"Model size:\", protoNNmodel.getModelSizeAsDense(), \"KB\")\n",
    "result_c = protoNNtrainer.train(\n",
    "                              train_inputs.float(),\n",
    "                              test_inputs.float(),\n",
    "                              train_targets.float(),\n",
    "                              test_targets.float(),\n",
    "                              batchsize,\n",
    "                              epochs,\n",
    "                              printStep,\n",
    "                              valStep,\n",
    "                              verbose=False, history=True)"
   ]
  },
  {
   "cell_type": "code",
   "execution_count": 8,
   "id": "c07d5acb",
   "metadata": {},
   "outputs": [],
   "source": [
    "import matplotlib.pyplot as plt\n",
    "import winsound\n",
    "\n",
    "accuarcy_a = np.array(result_a.get('accuracyThroughEpochs'))\n",
    "accuracy_b = np.array(result_b.get('accuracyThroughEpochs'))\n",
    "accuarcy_c = np.array(result_c.get('accuracyThroughEpochs'))"
   ]
  },
  {
   "cell_type": "code",
   "execution_count": 9,
   "id": "5cb48ea1",
   "metadata": {},
   "outputs": [
    {
     "data": {
      "text/plain": [
       "<function matplotlib.pyplot.show(close=None, block=None)>"
      ]
     },
     "execution_count": 9,
     "metadata": {},
     "output_type": "execute_result"
    },
    {
     "data": {
      "image/png": "[encoded data removed]",
      "text/plain": [
       "<Figure size 460.8x345.6 with 1 Axes>"
      ]
     },
     "metadata": {
      "needs_background": "light"
     },
     "output_type": "display_data"
    }
   ],
   "source": [
    "#plt.rcParams[\"figure.figsize\"] = (6.4, 10)\n",
    "plt.rcParams[\"figure.figsize\"] = plt.rcParamsDefault[\"figure.figsize\"]\n",
    "plt.plot(accuarcy_a)\n",
    "plt.plot(accuracy_b)\n",
    "plt.plot(accuarcy_c)\n",
    "'''\n",
    "for var in (accuracy_All, accuarcy_Std):\n",
    "    plt.annotate('%0.2f' % var.max(), xy=(1, var.max()), xytext=(8, 0), \n",
    "                 xycoords=('axes fraction', 'data'), textcoords='offset points')\n",
    "#plt.title('Effect of various parameters',fontweight='bold')\n",
    "'''\n",
    "plt.ylabel('Test accuracy on MNIST-10')\n",
    "plt.xlabel('Epochs')\n",
    "plt.ylim([0,1])\n",
    "plt.legend(['K-means and Z common class', 'K-means and Z rescaled', 'B random'], loc='lower right', prop={'size':15})\n",
    "plt.show"
   ]
  },
  {
   "cell_type": "code",
   "execution_count": 10,
   "id": "1faa2d04",
   "metadata": {},
   "outputs": [
    {
     "name": "stdout",
     "output_type": "stream",
     "text": [
      "Accuracy K-means and Z argmax:\t 0.9181666666666667\n",
      "Accuracy K-means and Z stdZ:\t 0.91575\n",
      "Accuracy B random:\t\t 0.9170833333333334\n"
     ]
    }
   ],
   "source": [
    "correct = result_a.get('correctPredictions').item()\n",
    "total  = result_a.get('totalPredictions')\n",
    "print(\"Accuracy K-means and Z argmax:\\t\", correct / total)\n",
    "correct = result_b.get('correctPredictions').item()\n",
    "total  = result_b.get('totalPredictions')\n",
    "print(\"Accuracy K-means and Z stdZ:\\t\", correct / total)\n",
    "correct = result_c.get('correctPredictions').item()\n",
    "print(\"Accuracy B random:\\t\\t\", correct / total)"
   ]
  },
  {
   "cell_type": "code",
   "execution_count": 11,
   "id": "151043de",
   "metadata": {},
   "outputs": [],
   "source": [
    "# to notify that I'm done running\n",
    "duration = 1000  # milliseconds\n",
    "freq = 440  # Hz\n",
    "winsound.Beep(freq, duration)\n",
    "winsound.Beep(500, duration)"
   ]
  },
  {
   "cell_type": "code",
   "execution_count": null,
   "id": "19ef6aec",
   "metadata": {},
   "outputs": [],
   "source": []
  }
 ],
 "metadata": {
  "kernelspec": {
   "display_name": "Python 3",
   "language": "python",
   "name": "python3"
  },
  "language_info": {
   "codemirror_mode": {
    "name": "ipython",
    "version": 3
   },
   "file_extension": ".py",
   "mimetype": "text/x-python",
   "name": "python",
   "nbconvert_exporter": "python",
   "pygments_lexer": "ipython3",
   "version": "3.6.13"
  }
 },
 "nbformat": 4,
 "nbformat_minor": 5
}
