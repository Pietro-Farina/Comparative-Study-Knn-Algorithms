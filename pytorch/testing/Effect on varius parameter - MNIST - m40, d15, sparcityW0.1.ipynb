{
 "cells": [
  {
   "cell_type": "code",
   "execution_count": 1,
   "id": "68735efe",
   "metadata": {
    "scrolled": true
   },
   "outputs": [
    {
     "name": "stderr",
     "output_type": "stream",
     "text": [
      "C:\\Users\\pietr\\anaconda3\\envs\\edgeml\\lib\\site-packages\\tqdm\\auto.py:22: TqdmWarning: IProgress not found. Please update jupyter and ipywidgets. See https://ipywidgets.readthedocs.io/en/stable/user_install.html\n",
      "  from .autonotebook import tqdm as notebook_tqdm\n"
     ]
    },
    {
     "name": "stdout",
     "output_type": "stream",
     "text": [
      "Dataset input rescaled\n",
      "Dataset loaded, input space: (60000, 784) , output space: (60000,)\n",
      "Dataset reshaped, input space: (60000, 784) , output space: (60000, 10)\n"
     ]
    }
   ],
   "source": [
    "# TEST THE EFFECT OF TRAINING ONLY SUBSET OF PARMETERS ON THE ACCURACY OF THE MODEL\n",
    "\n",
    "# import ProtoNN code\n",
    "import protoNN as protograph\n",
    "import protoNNTrainer as prototrainer\n",
    "import utils as utils\n",
    "# import general libraries\n",
    "import numpy as np\n",
    "import torch\n",
    "from sklearn.model_selection import train_test_split\n",
    "\n",
    "# need to change the dataset location\n",
    "X, Y = utils.handleMNIST('../../../data_set/mnist.csv')\n",
    "\n",
    "dataset = utils.CustomDatasetProtoNN(X, Y, rescaling=True, binary=False)"
   ]
  },
  {
   "cell_type": "code",
   "execution_count": 2,
   "id": "9ec19203",
   "metadata": {},
   "outputs": [
    {
     "name": "stdout",
     "output_type": "stream",
     "text": [
      "Dataset splitted: TRAINING: 48000 TESTING: 12000\n"
     ]
    }
   ],
   "source": [
    "X_train, X_test, Y_train, Y_test = train_test_split(dataset.data, dataset.labels, test_size=0.2, random_state=0)\n",
    "train_inputs = torch.from_numpy(X_train.astype(np.float32))\n",
    "train_targets = torch.from_numpy(Y_train.astype(np.float32))\n",
    "test_inputs = torch.from_numpy(X_test.astype(np.float32))\n",
    "test_targets = torch.from_numpy(Y_test.astype(np.float32))\n",
    "print(\"Dataset splitted: TRAINING:\", train_inputs.shape[0], \"TESTING:\", test_inputs.shape[0])"
   ]
  },
  {
   "cell_type": "code",
   "execution_count": 3,
   "id": "8ba2ca39",
   "metadata": {},
   "outputs": [
    {
     "name": "stdout",
     "output_type": "stream",
     "text": [
      "input dim:\t 784 \n",
      "num class:\t 10 \n",
      "num prototypes:\t 40 \n",
      "porjection dim:\t 15\n",
      "\n",
      "batch size:\t 100 \n",
      "epochs:\t\t 100 \n",
      "print step:\t 1000 \n",
      "evaluation step: 100\n"
     ]
    }
   ],
   "source": [
    "# DEFINITION OF HYPERPARAMETER FOR THE PROBLEM\n",
    "input_dimension = X_train.shape[1]\n",
    "numOutputLabels = dataset.numClasses\n",
    "numPrototypes = 40\n",
    "projection_dimension = 15\n",
    "\n",
    "# regularizer of W, B and Z: HYPERPARAMETER\n",
    "regW, regB, regZ = 0, 0, 0\n",
    "\n",
    "# sparsity of W, B and Z: HYPERPARAMETER, CONSTRAINTS OF MEMORY\n",
    "sparcityW, sparcityB, sparcityZ = 0.1, 1, 1\n",
    "\n",
    "np.random.seed(0)\n",
    "\n",
    "# initialize W as random - to use random seed fixed for testing\n",
    "W = np.random.rand(input_dimension, projection_dimension)\n",
    "\n",
    "# print structure of ProtoNN\n",
    "print(\"input dim:\\t\", input_dimension,\n",
    "      \"\\nnum class:\\t\", numOutputLabels,\n",
    "      \"\\nnum prototypes:\\t\", numPrototypes,\n",
    "      \"\\nporjection dim:\\t\", projection_dimension)\n",
    "\n",
    "# initial learning rate of the OPTIMIZER: HYPERPARAMETER\n",
    "learningRate = 0.1\n",
    "# lossType: 'l2'\n",
    "lossType= 'l2'\n",
    "\n",
    "# TRAINING PHASE\n",
    "# batchsize: HAS TO BE DEFINED\n",
    "batchsize = 100\n",
    "# epochs: HAS TO BE DEFINED\n",
    "epochs = 100\n",
    "# printStep: HAS TO BE DEFINED\n",
    "printStep = 1000\n",
    "# valStep: HAS TO BE DEFINED\n",
    "valStep = 100\n",
    "\n",
    "# print virables of ProtoNN training\n",
    "print(\"\\nbatch size:\\t\", batchsize,\n",
    "      \"\\nepochs:\\t\\t\", epochs,\n",
    "      \"\\nprint step:\\t\", printStep,\n",
    "      \"\\nevaluation step:\", valStep)"
   ]
  },
  {
   "cell_type": "code",
   "execution_count": 4,
   "id": "95a6214a",
   "metadata": {},
   "outputs": [
    {
     "name": "stdout",
     "output_type": "stream",
     "text": [
      "Model size: 51.04 KB\n"
     ]
    }
   ],
   "source": [
    "# protoNN training all parameters\n",
    "protoNNmodel = protograph.ProtoNN(input_dimension, projection_dimension,\n",
    "                                  numPrototypes, numOutputLabels,\n",
    "                                  gamma=0.5\n",
    "                                  , W=W)\n",
    "protoNNmodel.initializePrototypesAndGamma(train_inputs, train_targets,\n",
    "                                          input_W=W, overrideGamma=True)\n",
    "protoNNtrainer = prototrainer.ProtoNNTrainer(protoNNmodel,\n",
    "                                             sparcityW, sparcityB, sparcityZ,\n",
    "                                             regW, regB, regZ,\n",
    "                                             learningRate,\n",
    "                                             lossType)\n",
    "print(\"Model size:\", protoNNmodel.getModelSizeAsDense(), \"KB\")\n",
    "result_all = protoNNtrainer.train(\n",
    "                              train_inputs.float(),\n",
    "                              test_inputs.float(),\n",
    "                              train_targets.float(),\n",
    "                              test_targets.float(),\n",
    "                              batchsize,\n",
    "                              epochs,\n",
    "                              printStep,\n",
    "                              valStep,\n",
    "                              verbose=False, history=True)\n"
   ]
  },
  {
   "cell_type": "code",
   "execution_count": 5,
   "id": "db53bf85",
   "metadata": {},
   "outputs": [
    {
     "name": "stdout",
     "output_type": "stream",
     "text": [
      "Model size: 51.04 KB\n"
     ]
    }
   ],
   "source": [
    "# protoNN training B and Z\n",
    "protoNNmodel = protograph.ProtoNN(input_dimension, projection_dimension,\n",
    "                                  numPrototypes, numOutputLabels,\n",
    "                                  gamma=0.5\n",
    "                                  , W=W, W_train=False)\n",
    "protoNNmodel.initializePrototypesAndGamma(train_inputs, train_targets,\n",
    "                                          input_W=W, overrideGamma=True)\n",
    "protoNNtrainer = prototrainer.ProtoNNTrainer(protoNNmodel,\n",
    "                                             sparcityW, sparcityB, sparcityZ,\n",
    "                                             regW, regB, regZ,\n",
    "                                             learningRate,\n",
    "                                             lossType)\n",
    "print(\"Model size:\", protoNNmodel.getModelSizeAsDense(), \"KB\")\n",
    "result_b_z = protoNNtrainer.train(\n",
    "                              train_inputs.float(),\n",
    "                              test_inputs.float(),\n",
    "                              train_targets.float(),\n",
    "                              test_targets.float(),\n",
    "                              batchsize,\n",
    "                              epochs,\n",
    "                              printStep,\n",
    "                              valStep,\n",
    "                              verbose=False, history=True)\n"
   ]
  },
  {
   "cell_type": "code",
   "execution_count": 6,
   "id": "c22c3d90",
   "metadata": {},
   "outputs": [
    {
     "name": "stdout",
     "output_type": "stream",
     "text": [
      "Model size: 51.04 KB\n"
     ]
    }
   ],
   "source": [
    "# protoNN training W\n",
    "protoNNmodel = protograph.ProtoNN(input_dimension, projection_dimension,\n",
    "                                  numPrototypes, numOutputLabels,\n",
    "                                  gamma=0.5\n",
    "                                  , W=W, B_train=False, Z_train=False)\n",
    "protoNNmodel.initializePrototypesAndGamma(train_inputs, train_targets,\n",
    "                                          input_W=W, overrideGamma=True)\n",
    "protoNNtrainer = prototrainer.ProtoNNTrainer(protoNNmodel,\n",
    "                                             sparcityW, sparcityB, sparcityZ,\n",
    "                                             regW, regB, regZ,\n",
    "                                             learningRate,\n",
    "                                             lossType)\n",
    "print(\"Model size:\", protoNNmodel.getModelSizeAsDense(), \"KB\")\n",
    "result_w = protoNNtrainer.train(\n",
    "                              train_inputs.float(),\n",
    "                              test_inputs.float(),\n",
    "                              train_targets.float(),\n",
    "                              test_targets.float(),\n",
    "                              batchsize,\n",
    "                              epochs,\n",
    "                              printStep,\n",
    "                              valStep,\n",
    "                              verbose=False, history=True)\n"
   ]
  },
  {
   "cell_type": "code",
   "execution_count": 7,
   "id": "0e3e23c3",
   "metadata": {},
   "outputs": [
    {
     "name": "stdout",
     "output_type": "stream",
     "text": [
      "Model size: 51.04 KB\n"
     ]
    }
   ],
   "source": [
    "# protoNN training B and W\n",
    "protoNNmodel = protograph.ProtoNN(input_dimension, projection_dimension,\n",
    "                                  numPrototypes, numOutputLabels,\n",
    "                                  gamma=0.5\n",
    "                                  , W=W, Z_train=False)\n",
    "protoNNmodel.initializePrototypesAndGamma(train_inputs, train_targets,\n",
    "                                          input_W=W, overrideGamma=True)\n",
    "protoNNtrainer = prototrainer.ProtoNNTrainer(protoNNmodel,\n",
    "                                             sparcityW, sparcityB, sparcityZ,\n",
    "                                             regW, regB, regZ,\n",
    "                                             learningRate,\n",
    "                                             lossType)\n",
    "print(\"Model size:\", protoNNmodel.getModelSizeAsDense(), \"KB\")\n",
    "result_b_w = protoNNtrainer.train(\n",
    "                              train_inputs.float(),\n",
    "                              test_inputs.float(),\n",
    "                              train_targets.float(),\n",
    "                              test_targets.float(),\n",
    "                              batchsize,\n",
    "                              epochs,\n",
    "                              printStep,\n",
    "                              valStep,\n",
    "                              verbose=False, history=True)\n"
   ]
  },
  {
   "cell_type": "code",
   "execution_count": 8,
   "id": "0a52ca4d",
   "metadata": {},
   "outputs": [
    {
     "name": "stdout",
     "output_type": "stream",
     "text": [
      "Model size: 51.04 KB\n"
     ]
    }
   ],
   "source": [
    "# protoNN training W and Z\n",
    "protoNNmodel = protograph.ProtoNN(input_dimension, projection_dimension,\n",
    "                                  numPrototypes, numOutputLabels,\n",
    "                                  gamma=0.5\n",
    "                                  , W=W, B_train=False)\n",
    "protoNNmodel.initializePrototypesAndGamma(train_inputs, train_targets,\n",
    "                                          input_W=W, overrideGamma=True)\n",
    "protoNNtrainer = prototrainer.ProtoNNTrainer(protoNNmodel,\n",
    "                                             sparcityW, sparcityB, sparcityZ,\n",
    "                                             regW, regB, regZ,\n",
    "                                             learningRate,\n",
    "                                             lossType)\n",
    "print(\"Model size:\", protoNNmodel.getModelSizeAsDense(), \"KB\")\n",
    "result_w_z = protoNNtrainer.train(\n",
    "                              train_inputs.float(),\n",
    "                              test_inputs.float(),\n",
    "                              train_targets.float(),\n",
    "                              test_targets.float(),\n",
    "                              batchsize,\n",
    "                              epochs,\n",
    "                              printStep,\n",
    "                              valStep,\n",
    "                              verbose=False, history=True)\n"
   ]
  },
  {
   "cell_type": "code",
   "execution_count": 9,
   "id": "05aa7dee",
   "metadata": {},
   "outputs": [],
   "source": [
    "import matplotlib.pyplot as plt\n",
    "import math\n",
    "import winsound\n",
    "\n",
    "accuracy_All = np.array(result_all.get('accuracyThroughEpochs'))\n",
    "accuracy_BZ = np.array(result_b_z.get('accuracyThroughEpochs'))\n",
    "accuracy_W = np.array(result_w.get('accuracyThroughEpochs'))\n",
    "accuracy_BW = np.array(result_b_w.get('accuracyThroughEpochs'))\n",
    "accuracy_WZ = np.array(result_w_z.get('accuracyThroughEpochs'))"
   ]
  },
  {
   "cell_type": "code",
   "execution_count": 10,
   "id": "e86cbfb8",
   "metadata": {},
   "outputs": [
    {
     "data": {
      "text/plain": [
       "<function matplotlib.pyplot.show(close=None, block=None)>"
      ]
     },
     "execution_count": 10,
     "metadata": {},
     "output_type": "execute_result"
    },
    {
     "data": {
      "image/png": "[encoded data removed]",
      "text/plain": [
       "<Figure size 460.8x345.6 with 1 Axes>"
      ]
     },
     "metadata": {
      "needs_background": "light"
     },
     "output_type": "display_data"
    }
   ],
   "source": [
    "plt.rcParams[\"figure.figsize\"] = (10,4.8)\n",
    "plt.rcParams[\"figure.figsize\"] = plt.rcParamsDefault[\"figure.figsize\"]\n",
    "plt.plot(accuracy_All)\n",
    "plt.plot(accuracy_BZ)\n",
    "plt.plot(accuracy_BW)\n",
    "plt.plot(accuracy_WZ)\n",
    "for var in (accuracy_All, accuracy_BZ, accuracy_WZ):\n",
    "    plt.annotate('%0.2f' % var.max(), xy=(1, var.max()), xytext=(8, 0), \n",
    "                 xycoords=('axes fraction', 'data'), textcoords='offset points')\n",
    "#plt.title('Effect of various parameters',fontweight='bold')\n",
    "plt.ylabel('Test accuracy on MNIST')\n",
    "plt.xlabel('Epochs')\n",
    "plt.ylim([0, 1])\n",
    "plt.legend(['B, W and Z', 'B and Z', 'B and W', 'W and Z'], loc='lower right', prop={'size':13})\n",
    "plt.show\n"
   ]
  },
  {
   "cell_type": "code",
   "execution_count": 11,
   "id": "2bb0b013",
   "metadata": {},
   "outputs": [
    {
     "data": {
      "text/plain": [
       "<function matplotlib.pyplot.show(close=None, block=None)>"
      ]
     },
     "execution_count": 11,
     "metadata": {},
     "output_type": "execute_result"
    },
    {
     "data": {
      "image/png": "[encoded data removed]",
      "text/plain": [
       "<Figure size 720x345.6 with 1 Axes>"
      ]
     },
     "metadata": {
      "needs_background": "light"
     },
     "output_type": "display_data"
    }
   ],
   "source": [
    "plt.rcParams[\"figure.figsize\"] = (10,4.8)\n",
    "#plt.rcParams[\"figure.figsize\"] = plt.rcParamsDefault[\"figure.figsize\"]\n",
    "printedepochs = math.ceil(epochs*7/10) \n",
    "plt.plot(accuracy_All[:printedepochs])\n",
    "plt.plot(accuracy_BZ[:printedepochs])\n",
    "plt.plot(accuracy_BW[:printedepochs])\n",
    "plt.plot(accuracy_WZ[:printedepochs])\n",
    "for var in (accuracy_All[:printedepochs], accuracy_BZ[:printedepochs], accuracy_BW[:printedepochs], accuracy_WZ[:printedepochs]):\n",
    "    plt.annotate('%0.2f' % var.max(), xy=(1, var.max()), xytext=(8, 0), \n",
    "                 xycoords=('axes fraction', 'data'), textcoords='offset points')\n",
    "plt.title('Effect of various parameters',fontweight='bold')\n",
    "plt.ylabel('Test accuracy on MNIST')\n",
    "plt.xlabel('Epochs')\n",
    "plt.ylim([0, 1])\n",
    "plt.legend(['B, W and Z', 'B and Z', 'B and W', 'W and Z'], loc='lower right', prop={'size':13})\n",
    "plt.show"
   ]
  },
  {
   "cell_type": "code",
   "execution_count": 12,
   "id": "ad9d37b6",
   "metadata": {},
   "outputs": [
    {
     "name": "stdout",
     "output_type": "stream",
     "text": [
      "Accuracy B, W and Z:\t 0.9148333333333334\n",
      "Accuracy B and Z:\t 0.34833333333333333\n",
      "Accuracy B and W:\t 0.7976666666666666\n",
      "Accuracy W and Z:\t 0.6644166666666667\n"
     ]
    }
   ],
   "source": [
    "correct = result_all.get('correctPredictions').item()\n",
    "total  = result_all.get('totalPredictions')\n",
    "print(\"Accuracy B, W and Z:\\t\", correct / total)\n",
    "correct = result_b_z.get('correctPredictions').item()\n",
    "total  = result_b_z.get('totalPredictions')\n",
    "print(\"Accuracy B and Z:\\t\", correct / total)\n",
    "correct = result_b_w.get('correctPredictions').item()\n",
    "total  = result_b_w.get('totalPredictions')\n",
    "print(\"Accuracy B and W:\\t\", correct / total)\n",
    "correct = result_w_z.get('correctPredictions').item()\n",
    "total  = result_w_z.get('totalPredictions')\n",
    "print(\"Accuracy W and Z:\\t\", correct / total)"
   ]
  },
  {
   "cell_type": "code",
   "execution_count": 13,
   "id": "6f63446d",
   "metadata": {},
   "outputs": [],
   "source": [
    "# to notify that I'm done running\n",
    "duration = 1000  # milliseconds\n",
    "freq = 440  # Hz\n",
    "winsound.Beep(freq, duration)\n",
    "winsound.Beep(500, duration)"
   ]
  }
 ],
 "metadata": {
  "kernelspec": {
   "display_name": "Python 3",
   "language": "python",
   "name": "python3"
  },
  "language_info": {
   "codemirror_mode": {
    "name": "ipython",
    "version": 3
   },
   "file_extension": ".py",
   "mimetype": "text/x-python",
   "name": "python",
   "nbconvert_exporter": "python",
   "pygments_lexer": "ipython3",
   "version": "3.6.13"
  }
 },
 "nbformat": 4,
 "nbformat_minor": 5
}
