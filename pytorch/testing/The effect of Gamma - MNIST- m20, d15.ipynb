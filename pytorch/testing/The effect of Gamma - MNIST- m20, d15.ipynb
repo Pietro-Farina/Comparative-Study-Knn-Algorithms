{
 "cells": [
  {
   "cell_type": "code",
   "execution_count": 1,
   "id": "8d58c8da",
   "metadata": {},
   "outputs": [
    {
     "name": "stderr",
     "output_type": "stream",
     "text": [
      "C:\\Users\\pietr\\anaconda3\\envs\\edgeml\\lib\\site-packages\\tqdm\\auto.py:22: TqdmWarning: IProgress not found. Please update jupyter and ipywidgets. See https://ipywidgets.readthedocs.io/en/stable/user_install.html\n",
      "  from .autonotebook import tqdm as notebook_tqdm\n"
     ]
    },
    {
     "name": "stdout",
     "output_type": "stream",
     "text": [
      "Dataset input rescaled\n",
      "Dataset loaded, input space: (60000, 784) , output space: (60000,)\n",
      "Dataset reshaped, input space: (60000, 784) , output space: (60000, 10)\n"
     ]
    }
   ],
   "source": [
    "# Overview of the accuracy of ProtoNN when gamma is calculated heuristically\n",
    "\n",
    "# import ProtoNN code\n",
    "import protoNN as protograph\n",
    "import protoNNTrainer as prototrainer\n",
    "import utils as utils\n",
    "# import general libraries\n",
    "import numpy as np\n",
    "import torch\n",
    "from sklearn.model_selection import train_test_split\n",
    "\n",
    "# need to change the dataset location\n",
    "X, Y = utils.handleMNIST('../../../data_set/mnist.csv')\n",
    "\n",
    "dataset = utils.CustomDatasetProtoNN(X, Y, rescaling=True, binary=False)"
   ]
  },
  {
   "cell_type": "code",
   "execution_count": 2,
   "id": "f5db7816",
   "metadata": {},
   "outputs": [
    {
     "name": "stdout",
     "output_type": "stream",
     "text": [
      "Dataset splitted: TRAINING: 48000 TESTING: 12000\n"
     ]
    }
   ],
   "source": [
    "X_train, X_test, Y_train, Y_test = train_test_split(dataset.data, dataset.labels, test_size=0.2, random_state=0)\n",
    "train_inputs = torch.from_numpy(X_train.astype(np.float32))\n",
    "train_targets = torch.from_numpy(Y_train.astype(np.float32))\n",
    "test_inputs = torch.from_numpy(X_test.astype(np.float32))\n",
    "test_targets = torch.from_numpy(Y_test.astype(np.float32))\n",
    "print(\"Dataset splitted: TRAINING:\", train_inputs.shape[0], \"TESTING:\", test_inputs.shape[0])"
   ]
  },
  {
   "cell_type": "code",
   "execution_count": 3,
   "id": "93b7b7ce",
   "metadata": {},
   "outputs": [
    {
     "name": "stdout",
     "output_type": "stream",
     "text": [
      "input dim:\t 784 \n",
      "num class:\t 10 \n",
      "num prototypes:\t 20 \n",
      "porjection dim:\t 15\n",
      "\n",
      "batch size:\t 100 \n",
      "epochs:\t\t 100 \n",
      "print step:\t 1000 \n",
      "evaluation step: 100\n"
     ]
    }
   ],
   "source": [
    "# DEFINITION OF HYPERPARAMETER FOR THE PROBLEM\n",
    "input_dimension = X_train.shape[1]\n",
    "numOutputLabels = dataset.numClasses\n",
    "numPrototypes = 20\n",
    "projection_dimension = 15\n",
    "\n",
    "# regularizer of W, B and Z: HYPERPARAMETER\n",
    "regW, regB, regZ = 0, 0, 0\n",
    "\n",
    "# sparsity of W, B and Z: HYPERPARAMETER, CONSTRAINTS OF MEMORY\n",
    "sparcityW, sparcityB, sparcityZ = 1, 1, 1\n",
    "\n",
    "np.random.seed(0)\n",
    "\n",
    "# initialize W as random - to use random seed fixed for testing\n",
    "W = np.random.rand(input_dimension, projection_dimension)\n",
    "\n",
    "# print structure of ProtoNN\n",
    "print(\"input dim:\\t\", input_dimension,\n",
    "      \"\\nnum class:\\t\", numOutputLabels,\n",
    "      \"\\nnum prototypes:\\t\", numPrototypes,\n",
    "      \"\\nporjection dim:\\t\", projection_dimension)\n",
    "\n",
    "# initial learning rate of the OPTIMIZER: HYPERPARAMETER\n",
    "learningRate = 0.1\n",
    "# lossType: 'l2'\n",
    "lossType= 'l2'\n",
    "\n",
    "# TRAINING PHASE\n",
    "# batchsize: HAS TO BE DEFINED\n",
    "batchsize = 100\n",
    "# epochs: HAS TO BE DEFINED\n",
    "epochs = 100\n",
    "# printStep: HAS TO BE DEFINED\n",
    "printStep = 1000\n",
    "# valStep: HAS TO BE DEFINED\n",
    "valStep = 100\n",
    "\n",
    "# print virables of ProtoNN training\n",
    "print(\"\\nbatch size:\\t\", batchsize,\n",
    "      \"\\nepochs:\\t\\t\", epochs,\n",
    "      \"\\nprint step:\\t\", printStep,\n",
    "      \"\\nevaluation step:\", valStep)"
   ]
  },
  {
   "cell_type": "code",
   "execution_count": 4,
   "id": "cc6d5312",
   "metadata": {},
   "outputs": [
    {
     "name": "stdout",
     "output_type": "stream",
     "text": [
      "Model size: 49.04 KB\n"
     ]
    }
   ],
   "source": [
    "# protoNN with heuristic gamma\n",
    "protoNNmodel = protograph.ProtoNN(input_dimension, projection_dimension,\n",
    "                                  numPrototypes, numOutputLabels,\n",
    "                                  gamma=0.5\n",
    "                                  , W=W)\n",
    "protoNNmodel.initializePrototypesAndGamma(train_inputs, train_targets,\n",
    "                                          input_W=W, overrideGamma=True)\n",
    "_, _, _, _, gamma = protoNNmodel.getHyperParams()\n",
    "protoNNtrainer = prototrainer.ProtoNNTrainer(protoNNmodel,\n",
    "                                             sparcityW, sparcityB, sparcityZ,\n",
    "                                             regW, regB, regZ,\n",
    "                                             learningRate,\n",
    "                                             lossType)\n",
    "print(\"Model size:\", protoNNmodel.getModelSizeAsDense(), \"KB\")\n",
    "result_heuristic = protoNNtrainer.train(\n",
    "                              train_inputs.float(),\n",
    "                              test_inputs.float(),\n",
    "                              train_targets.float(),\n",
    "                              test_targets.float(),\n",
    "                              batchsize,\n",
    "                              epochs,\n",
    "                              printStep,\n",
    "                              valStep,\n",
    "                              verbose=False, history=True)\n"
   ]
  },
  {
   "cell_type": "code",
   "execution_count": 5,
   "id": "3fde3d29",
   "metadata": {},
   "outputs": [
    {
     "name": "stdout",
     "output_type": "stream",
     "text": [
      "Model size: 49.04 KB\n"
     ]
    }
   ],
   "source": [
    "# protoNN with default gamma 0.05\n",
    "protoNNmodel = protograph.ProtoNN(input_dimension, projection_dimension,\n",
    "                                  numPrototypes, numOutputLabels,\n",
    "                                  gamma=0.05\n",
    "                                  , W=W)\n",
    "protoNNmodel.initializePrototypesAndGamma(train_inputs, train_targets,\n",
    "                                          input_W=W, overrideGamma=False)\n",
    "protoNNtrainer = prototrainer.ProtoNNTrainer(protoNNmodel,\n",
    "                                             sparcityW, sparcityB, sparcityZ,\n",
    "                                             regW, regB, regZ,\n",
    "                                             learningRate,\n",
    "                                             lossType)\n",
    "print(\"Model size:\", protoNNmodel.getModelSizeAsDense(), \"KB\")\n",
    "result_gamma_a = protoNNtrainer.train(\n",
    "                              train_inputs.float(),\n",
    "                              test_inputs.float(),\n",
    "                              train_targets.float(),\n",
    "                              test_targets.float(),\n",
    "                              batchsize,\n",
    "                              epochs,\n",
    "                              printStep,\n",
    "                              valStep,\n",
    "                              verbose=False, history=True)\n"
   ]
  },
  {
   "cell_type": "code",
   "execution_count": 6,
   "id": "597a950f",
   "metadata": {},
   "outputs": [
    {
     "name": "stdout",
     "output_type": "stream",
     "text": [
      "Model size: 49.04 KB\n"
     ]
    }
   ],
   "source": [
    "# protoNN with default gamma 0.005\n",
    "protoNNmodel = protograph.ProtoNN(input_dimension, projection_dimension,\n",
    "                                  numPrototypes, numOutputLabels,\n",
    "                                  gamma=0.005\n",
    "                                  , W=W)\n",
    "protoNNmodel.initializePrototypesAndGamma(train_inputs, train_targets,\n",
    "                                          input_W=W, overrideGamma=False)\n",
    "protoNNtrainer = prototrainer.ProtoNNTrainer(protoNNmodel,\n",
    "                                             sparcityW, sparcityB, sparcityZ,\n",
    "                                             regW, regB, regZ,\n",
    "                                             learningRate,\n",
    "                                             lossType)\n",
    "print(\"Model size:\", protoNNmodel.getModelSizeAsDense(), \"KB\")\n",
    "result_gamma_b = protoNNtrainer.train(\n",
    "                              train_inputs.float(),\n",
    "                              test_inputs.float(),\n",
    "                              train_targets.float(),\n",
    "                              test_targets.float(),\n",
    "                              batchsize,\n",
    "                              epochs,\n",
    "                              printStep,\n",
    "                              valStep,\n",
    "                              verbose=False, history=True)"
   ]
  },
  {
   "cell_type": "code",
   "execution_count": 7,
   "id": "d06c6e5a",
   "metadata": {},
   "outputs": [
    {
     "name": "stdout",
     "output_type": "stream",
     "text": [
      "Model size: 49.04 KB\n"
     ]
    }
   ],
   "source": [
    "# protoNN with default gamma 0.0005\n",
    "protoNNmodel = protograph.ProtoNN(input_dimension, projection_dimension,\n",
    "                                  numPrototypes, numOutputLabels,\n",
    "                                  gamma=0.0005\n",
    "                                  , W=W)\n",
    "protoNNmodel.initializePrototypesAndGamma(train_inputs, train_targets,\n",
    "                                          input_W=W, overrideGamma=False)\n",
    "protoNNtrainer = prototrainer.ProtoNNTrainer(protoNNmodel,\n",
    "                                             sparcityW, sparcityB, sparcityZ,\n",
    "                                             regW, regB, regZ,\n",
    "                                             learningRate,\n",
    "                                             lossType)\n",
    "print(\"Model size:\", protoNNmodel.getModelSizeAsDense(), \"KB\")\n",
    "result_gamma_c = protoNNtrainer.train(\n",
    "                              train_inputs.float(),\n",
    "                              test_inputs.float(),\n",
    "                              train_targets.float(),\n",
    "                              test_targets.float(),\n",
    "                              batchsize,\n",
    "                              epochs,\n",
    "                              printStep,\n",
    "                              valStep,\n",
    "                              verbose=False, history=True)"
   ]
  },
  {
   "cell_type": "code",
   "execution_count": 8,
   "id": "4c98eb9a",
   "metadata": {},
   "outputs": [],
   "source": [
    "import matplotlib.pyplot as plt\n",
    "import winsound\n",
    "\n",
    "accuarcy_heuristic = np.array(result_heuristic.get('accuracyThroughEpochs'))\n",
    "accuarcy_a = np.array(result_gamma_a.get('accuracyThroughEpochs'))\n",
    "accuracy_b = np.array(result_gamma_b.get('accuracyThroughEpochs'))\n",
    "accuarcy_c = np.array(result_gamma_c.get('accuracyThroughEpochs'))"
   ]
  },
  {
   "cell_type": "code",
   "execution_count": 9,
   "id": "25172aec",
   "metadata": {},
   "outputs": [
    {
     "data": {
      "text/plain": [
       "<function matplotlib.pyplot.show(close=None, block=None)>"
      ]
     },
     "execution_count": 9,
     "metadata": {},
     "output_type": "execute_result"
    },
    {
     "data": {
      "image/png": "[encoded data removed]",
      "text/plain": [
       "<Figure size 460.8x345.6 with 1 Axes>"
      ]
     },
     "metadata": {
      "needs_background": "light"
     },
     "output_type": "display_data"
    }
   ],
   "source": [
    "plt.rcParams[\"figure.figsize\"] = (2,3)\n",
    "plt.rcParams[\"figure.figsize\"] = plt.rcParamsDefault[\"figure.figsize\"]\n",
    "plt.plot(accuarcy_heuristic)\n",
    "plt.plot(accuarcy_a)\n",
    "plt.plot(accuracy_b)\n",
    "plt.plot(accuarcy_c)\n",
    "for var in (accuarcy_heuristic, accuarcy_a):\n",
    "    plt.annotate('%0.2f' % var[-1], xy=(1, var[-1]), xytext=(8, 0), \n",
    "             xycoords=('axes fraction', 'data'), textcoords='offset points')\n",
    "#plt.title('Effect of various parameters',fontweight='bold')\n",
    "plt.ylabel('Test accuracy on MNIST-10')\n",
    "plt.ylim([0,1])\n",
    "plt.xlabel('Epochs')\n",
    "plt.legend(['\\u03B3: heuristic', '\\u03B3: 0.05', '\\u03B3: 0.005', '\\u03B3: 0.0005'], loc='lower right', prop={'size':15})\n",
    "plt.show"
   ]
  },
  {
   "cell_type": "code",
   "execution_count": 10,
   "id": "d6232a7c",
   "metadata": {},
   "outputs": [
    {
     "name": "stdout",
     "output_type": "stream",
     "text": [
      "Accuracy with Heuristic Gamma:\t\t 0.9170833333333334\n",
      "Accuracy with fixed Gamma 0.05:\t\t 0.10425\n",
      "Accuracy with fixed Gamma 0.005:\t 0.9103333333333333\n",
      "Accuracy with fixed Gamma 0.0005:\t 0.91375\n"
     ]
    }
   ],
   "source": [
    "correct = result_heuristic.get('correctPredictions').item()\n",
    "total  = result_heuristic.get('totalPredictions')\n",
    "print(\"Accuracy with Heuristic Gamma:\\t\\t\", correct / total)\n",
    "correct = result_gamma_a.get('correctPredictions').item()\n",
    "total  = result_gamma_a.get('totalPredictions')\n",
    "print(\"Accuracy with fixed Gamma 0.05:\\t\\t\", correct / total)\n",
    "correct = result_gamma_b.get('correctPredictions').item()\n",
    "total  = result_gamma_b.get('totalPredictions')\n",
    "print(\"Accuracy with fixed Gamma 0.005:\\t\", correct / total)\n",
    "correct = result_gamma_c.get('correctPredictions').item()\n",
    "total  = result_gamma_c.get('totalPredictions')\n",
    "print(\"Accuracy with fixed Gamma 0.0005:\\t\", correct / total)"
   ]
  },
  {
   "cell_type": "code",
   "execution_count": 11,
   "id": "a77d6bc1",
   "metadata": {},
   "outputs": [
    {
     "name": "stdout",
     "output_type": "stream",
     "text": [
      "0.0014698528036529725\n"
     ]
    }
   ],
   "source": [
    "print(gamma)"
   ]
  },
  {
   "cell_type": "code",
   "execution_count": 12,
   "id": "db72bf7b",
   "metadata": {},
   "outputs": [],
   "source": [
    "# to notify that I'm done running\n",
    "duration = 1000  # milliseconds\n",
    "freq = 440  # Hz\n",
    "winsound.Beep(freq, duration)\n",
    "winsound.Beep(500, duration)"
   ]
  }
 ],
 "metadata": {
  "kernelspec": {
   "display_name": "Python 3",
   "language": "python",
   "name": "python3"
  },
  "language_info": {
   "codemirror_mode": {
    "name": "ipython",
    "version": 3
   },
   "file_extension": ".py",
   "mimetype": "text/x-python",
   "name": "python",
   "nbconvert_exporter": "python",
   "pygments_lexer": "ipython3",
   "version": "3.6.13"
  }
 },
 "nbformat": 4,
 "nbformat_minor": 5
}
